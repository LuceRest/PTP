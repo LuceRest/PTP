{
 "cells": [
  {
   "cell_type": "code",
   "execution_count": null,
   "id": "e6c5cd7a",
   "metadata": {},
   "outputs": [],
   "source": [
    "import pandas as pd \n",
    "import numpy as np\n",
    "\n",
    "dm = pd.read_csv(\"6th Meet (Monday, March, 14th 2022)\\Material\\Data\\motogpmandalika_clean2_1.csv\", usecols=[\"label\", \"teksbersih\"])\n",
    "dm.columns = [\"label\", \"teksbersih\"]\n",
    "dm.head()"
   ]
  },
  {
   "cell_type": "code",
   "execution_count": null,
   "id": "90d5386f",
   "metadata": {},
   "outputs": [],
   "source": [
    "# convert list formated string to list\n",
    "import ast\n",
    "\n",
    "def convert_text_list(texts):\n",
    "    texts = ast.literal_eval(texts)\n",
    "    return [text for text in texts]\n",
    "\n",
    "dm[\"tekslist\"] = dm[\"teksbersih\"].apply(convert_text_list)\n",
    "\n",
    "print(dm[\"tekslist\"][90])\n",
    "\n",
    "print(\"\\ntype : \", type(dm[\"tekslist\"][90]))"
   ]
  },
  {
   "cell_type": "code",
   "execution_count": null,
   "id": "60ee2b75",
   "metadata": {},
   "outputs": [],
   "source": [
    "def calc_TF(document):\n",
    "    #perhitungan jumlah kata\n",
    "    TF_dict = {}\n",
    "    for term in document:\n",
    "        if term in TF_dict:\n",
    "            TF_dict[term] += 1\n",
    "        else:\n",
    "            TF_dict[term] = 1\n",
    "    #perhitungan tf\n",
    "    for term in TF_dict:\n",
    "        TF_dict[term] = TF_dict[term] / len(document)\n",
    "    return TF_dict\n",
    "\n",
    "dm[\"TF_dict\"] = dm['tekslist'].apply(calc_TF)\n",
    "\n",
    "dm[\"TF_dict\"].head()"
   ]
  },
  {
   "cell_type": "code",
   "execution_count": null,
   "id": "323d92bf",
   "metadata": {},
   "outputs": [],
   "source": [
    "#hasil tf\n",
    "index = 90\n",
    "\n",
    "print('%20s' % \"term\", \"\\t\", \"TF\\n\")\n",
    "for key in dm[\"TF_dict\"][index]:\n",
    "    print('%20s' % key, \"\\t\", dm[\"TF_dict\"][index][key])"
   ]
  },
  {
   "cell_type": "code",
   "execution_count": null,
   "id": "7944a5af",
   "metadata": {},
   "outputs": [],
   "source": [
    "def calc_DF(tfDict):\n",
    "    count_DF = {}\n",
    "    for document in tfDict:\n",
    "        for term in document:\n",
    "            if term in count_DF:\n",
    "                count_DF[term] += 1\n",
    "            else:\n",
    "                count_DF[term] = 1\n",
    "    return count_DF\n",
    "\n",
    "DF = calc_DF(dm[\"TF_dict\"])\n"
   ]
  },
  {
   "cell_type": "code",
   "execution_count": null,
   "id": "51df9ba2",
   "metadata": {},
   "outputs": [],
   "source": [
    "#menghitung idf\n",
    "\n",
    "n_document = len(dm)\n",
    "def calc_IDF(__n_document, __DF):\n",
    "    IDF_Dict = {}\n",
    "    for term in __DF:\n",
    "        IDF_Dict[term] = np.log(__n_document / (__DF[term] + 1))\n",
    "    return IDF_Dict\n",
    "  \n",
    "#penyimpanan kamus idf\n",
    "IDF = calc_IDF(n_document, DF)"
   ]
  },
  {
   "cell_type": "code",
   "execution_count": null,
   "id": "faabd514",
   "metadata": {},
   "outputs": [],
   "source": [
    "#perhitungan TF-IDF\n",
    "def calc_TF_IDF(TF):\n",
    "    TF_IDF_Dict = {}\n",
    "    for key in TF:\n",
    "        TF_IDF_Dict[key] = TF[key] * IDF[key]\n",
    "    return TF_IDF_Dict\n",
    "\n",
    "#penyimpanan variabel TF-IDF \n",
    "dm[\"TF-IDF_dict\"] = dm[\"TF_dict\"].apply(calc_TF_IDF)"
   ]
  },
  {
   "cell_type": "code",
   "execution_count": null,
   "id": "bf9d0634",
   "metadata": {},
   "outputs": [],
   "source": [
    "# memunculkan nilai TF-IDF\n",
    "index = 90\n",
    "\n",
    "print('%20s' % \"term\", \"\\t\", '%10s' % \"TF\", \"\\t\", '%20s' % \"TF-IDF\\n\")\n",
    "for key in dm[\"TF-IDF_dict\"][index]:\n",
    "    print('%20s' % key, \"\\t\", dm[\"TF_dict\"][index][key] ,\"\\t\" , dm[\"TF-IDF_dict\"][index][key])"
   ]
  },
  {
   "cell_type": "code",
   "execution_count": null,
   "id": "e42a9927",
   "metadata": {},
   "outputs": [],
   "source": [
    "#matrik tf-idf\n",
    "# pengurutan descending berdasarkan nilai DF  \n",
    "sorted_DF = sorted(DF.items(), key=lambda kv: kv[1], reverse=True)[:50]\n",
    "\n",
    "# pembuatan list kata dari pengurutan `sorted_DF`\n",
    "unique_term = [item[0] for item in sorted_DF]\n",
    "\n",
    "def calc_TF_IDF_Vec(__TF_IDF_Dict):\n",
    "    TF_IDF_vector = [0.0] * len(unique_term)\n",
    "\n",
    "    # For each unique word, if it is in the review, store its TF-IDF value.\n",
    "    for i, term in enumerate(unique_term):\n",
    "        if term in __TF_IDF_Dict:\n",
    "            TF_IDF_vector[i] = __TF_IDF_Dict[term]\n",
    "    return TF_IDF_vector\n",
    "\n",
    "dm[\"TF_IDF_Vec\"] = dm[\"TF-IDF_dict\"].apply(calc_TF_IDF_Vec)\n",
    "\n",
    "print(\"tampil baris pertama matrix TF_IDF_Vec Series\\n\")\n",
    "print(dm[\"TF_IDF_Vec\"][0])\n",
    "\n",
    "print(\"\\nukuran matrix : \", len(dm[\"TF_IDF_Vec\"][0]))"
   ]
  },
  {
   "cell_type": "code",
   "execution_count": null,
   "id": "6f9d3e8b",
   "metadata": {},
   "outputs": [],
   "source": [
    "#menampilkan top 50 term tf-idf\n",
    "\n",
    "# konversi ke dalam List\n",
    "TF_IDF_Vec_List = np.array(dm[\"TF_IDF_Vec\"].to_list())\n",
    " \n",
    "sums = TF_IDF_Vec_List.sum(axis=0)\n",
    "\n",
    "data = []\n",
    "\n",
    "for col, term in enumerate(unique_term):\n",
    "    data.append((term, sums[col]))\n",
    "    \n",
    "ranking = pd.DataFrame(data, columns=['term', 'rank'])\n",
    "ranking.sort_values('rank', ascending=False)"
   ]
  },
  {
   "cell_type": "code",
   "execution_count": null,
   "id": "7e1b5e01",
   "metadata": {},
   "outputs": [],
   "source": [
    "print('hello world')"
   ]
  }
 ],
 "metadata": {
  "kernelspec": {
   "display_name": "Python 3",
   "language": "python",
   "name": "python3"
  },
  "language_info": {
   "codemirror_mode": {
    "name": "ipython",
    "version": 3
   },
   "file_extension": ".py",
   "mimetype": "text/x-python",
   "name": "python",
   "nbconvert_exporter": "python",
   "pygments_lexer": "ipython3",
   "version": "3.9.7"
  }
 },
 "nbformat": 4,
 "nbformat_minor": 5
}
