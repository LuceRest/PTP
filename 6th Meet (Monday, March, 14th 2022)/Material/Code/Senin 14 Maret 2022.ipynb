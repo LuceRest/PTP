{
 "cells": [
  {
   "cell_type": "code",
   "execution_count": 1,
   "id": "447f835c",
   "metadata": {},
   "outputs": [
    {
     "data": {
      "text/html": [
       "<div>\n",
       "<style scoped>\n",
       "    .dataframe tbody tr th:only-of-type {\n",
       "        vertical-align: middle;\n",
       "    }\n",
       "\n",
       "    .dataframe tbody tr th {\n",
       "        vertical-align: top;\n",
       "    }\n",
       "\n",
       "    .dataframe thead th {\n",
       "        text-align: right;\n",
       "    }\n",
       "</style>\n",
       "<table border=\"1\" class=\"dataframe\">\n",
       "  <thead>\n",
       "    <tr style=\"text-align: right;\">\n",
       "      <th></th>\n",
       "      <th>teks</th>\n",
       "      <th>label</th>\n",
       "    </tr>\n",
       "  </thead>\n",
       "  <tbody>\n",
       "    <tr>\n",
       "      <th>0</th>\n",
       "      <td>b ada catat motor balap sesi kali naremaketurki</td>\n",
       "      <td>Positif</td>\n",
       "    </tr>\n",
       "    <tr>\n",
       "      <th>1</th>\n",
       "      <td>b ada rute bus gratis tonton motogp mandalika ...</td>\n",
       "      <td>Positif</td>\n",
       "    </tr>\n",
       "    <tr>\n",
       "      <th>2</th>\n",
       "      <td>b ahli sirkuit mandalika motogp baik titik utama</td>\n",
       "      <td>Positif</td>\n",
       "    </tr>\n",
       "    <tr>\n",
       "      <th>3</th>\n",
       "      <td>b airlangga hartarto kira official crew balap ...</td>\n",
       "      <td>Positif</td>\n",
       "    </tr>\n",
       "    <tr>\n",
       "      <th>4</th>\n",
       "      <td>b aspal sirkuit mandalika benah tes pramusim m...</td>\n",
       "      <td>Positif</td>\n",
       "    </tr>\n",
       "  </tbody>\n",
       "</table>\n",
       "</div>"
      ],
      "text/plain": [
       "                                                teks    label\n",
       "0   b ada catat motor balap sesi kali naremaketurki   Positif\n",
       "1  b ada rute bus gratis tonton motogp mandalika ...  Positif\n",
       "2   b ahli sirkuit mandalika motogp baik titik utama  Positif\n",
       "3  b airlangga hartarto kira official crew balap ...  Positif\n",
       "4  b aspal sirkuit mandalika benah tes pramusim m...  Positif"
      ]
     },
     "execution_count": 1,
     "metadata": {},
     "output_type": "execute_result"
    }
   ],
   "source": [
    "import pandas as pd\n",
    "#reading the data\n",
    "data = pd.read_csv(\"motogpmandalika_clean2.csv\",encoding=\"ISO-8859-1\")\n",
    "data.head()"
   ]
  },
  {
   "cell_type": "code",
   "execution_count": 2,
   "id": "f72facfe",
   "metadata": {},
   "outputs": [
    {
     "name": "stderr",
     "output_type": "stream",
     "text": [
      "<ipython-input-2-482333341974>:2: FutureWarning: Passing a negative integer is deprecated in version 1.0 and will not be supported in future version. Instead, use None to not limit the column width.\n",
      "  pd.set_option('display.max_colwidth', -1)\n"
     ]
    },
    {
     "data": {
      "text/html": [
       "<div>\n",
       "<style scoped>\n",
       "    .dataframe tbody tr th:only-of-type {\n",
       "        vertical-align: middle;\n",
       "    }\n",
       "\n",
       "    .dataframe tbody tr th {\n",
       "        vertical-align: top;\n",
       "    }\n",
       "\n",
       "    .dataframe thead th {\n",
       "        text-align: right;\n",
       "    }\n",
       "</style>\n",
       "<table border=\"1\" class=\"dataframe\">\n",
       "  <thead>\n",
       "    <tr style=\"text-align: right;\">\n",
       "      <th></th>\n",
       "      <th>teks</th>\n",
       "      <th>label</th>\n",
       "    </tr>\n",
       "  </thead>\n",
       "  <tbody>\n",
       "    <tr>\n",
       "      <th>0</th>\n",
       "      <td>b ada catat motor balap sesi kali naremaketurki</td>\n",
       "      <td>Positif</td>\n",
       "    </tr>\n",
       "    <tr>\n",
       "      <th>1</th>\n",
       "      <td>b ada rute bus gratis tonton motogp mandalika baca lengkap</td>\n",
       "      <td>Positif</td>\n",
       "    </tr>\n",
       "    <tr>\n",
       "      <th>2</th>\n",
       "      <td>b ahli sirkuit mandalika motogp baik titik utama</td>\n",
       "      <td>Positif</td>\n",
       "    </tr>\n",
       "    <tr>\n",
       "      <th>3</th>\n",
       "      <td>b airlangga hartarto kira official crew balap motogp maret mandalika</td>\n",
       "      <td>Positif</td>\n",
       "    </tr>\n",
       "    <tr>\n",
       "      <th>4</th>\n",
       "      <td>b aspal sirkuit mandalika benah tes pramusim motogp beres maret</td>\n",
       "      <td>Positif</td>\n",
       "    </tr>\n",
       "  </tbody>\n",
       "</table>\n",
       "</div>"
      ],
      "text/plain": [
       "                                                                    teks  \\\n",
       "0  b ada catat motor balap sesi kali naremaketurki                         \n",
       "1  b ada rute bus gratis tonton motogp mandalika baca lengkap              \n",
       "2  b ahli sirkuit mandalika motogp baik titik utama                        \n",
       "3  b airlangga hartarto kira official crew balap motogp maret mandalika    \n",
       "4  b aspal sirkuit mandalika benah tes pramusim motogp beres maret         \n",
       "\n",
       "     label  \n",
       "0  Positif  \n",
       "1  Positif  \n",
       "2  Positif  \n",
       "3  Positif  \n",
       "4  Positif  "
      ]
     },
     "execution_count": 2,
     "metadata": {},
     "output_type": "execute_result"
    }
   ],
   "source": [
    "#expanding the dispay of text sms column\n",
    "pd.set_option('display.max_colwidth', -1)\n",
    "#using only v1 and v2 column\n",
    "data= data [['teks','label']]\n",
    "data.head()"
   ]
  },
  {
   "cell_type": "code",
   "execution_count": 3,
   "id": "a1d5cc15",
   "metadata": {},
   "outputs": [
    {
     "data": {
      "text/plain": [
       "Positif    95\n",
       "negatif    9 \n",
       "Name: label, dtype: int64"
      ]
     },
     "execution_count": 3,
     "metadata": {},
     "output_type": "execute_result"
    }
   ],
   "source": [
    "#checking the count of the dependent variable\n",
    "data['label'].value_counts()"
   ]
  },
  {
   "cell_type": "code",
   "execution_count": 4,
   "id": "92130801",
   "metadata": {},
   "outputs": [],
   "source": [
    "import re\n",
    "def tokenization(text):\n",
    "    tokens = re.split('W+',text)\n",
    "    return tokens\n",
    "#applying function to the column\n",
    "data['teks_tokenied']= data['teks'].apply(lambda x: tokenization(x))"
   ]
  },
  {
   "cell_type": "code",
   "execution_count": 5,
   "id": "27d6a439",
   "metadata": {},
   "outputs": [
    {
     "data": {
      "text/plain": [
       "['di', 'yang', 'dan', 'ke', 'dari', 'apa', 'kita', 'sama', 'dia', 'pun']"
      ]
     },
     "execution_count": 5,
     "metadata": {},
     "output_type": "execute_result"
    }
   ],
   "source": [
    "import nltk\n",
    "#Stop words present in the library\n",
    "stopwords = nltk.corpus.stopwords.words('indonesian')\n",
    "stopwords[0:10]\n",
    "['di', 'yang', 'dan', 'ke', 'dari', 'apa', 'kita', 'sama', 'dia', \"pun\"]"
   ]
  },
  {
   "cell_type": "code",
   "execution_count": 6,
   "id": "90ac6710",
   "metadata": {},
   "outputs": [],
   "source": [
    "def remove_stopwords(text):\n",
    "    output= [i for i in text if i not in stopwords]\n",
    "    return output"
   ]
  },
  {
   "cell_type": "code",
   "execution_count": 7,
   "id": "18c0fef7",
   "metadata": {},
   "outputs": [],
   "source": [
    "#applying the function\n",
    "data['teksbersih']= data['teks_tokenied'].apply(lambda x:remove_stopwords(x))"
   ]
  },
  {
   "cell_type": "code",
   "execution_count": 8,
   "id": "9fa4b266",
   "metadata": {},
   "outputs": [
    {
     "data": {
      "text/html": [
       "<div>\n",
       "<style scoped>\n",
       "    .dataframe tbody tr th:only-of-type {\n",
       "        vertical-align: middle;\n",
       "    }\n",
       "\n",
       "    .dataframe tbody tr th {\n",
       "        vertical-align: top;\n",
       "    }\n",
       "\n",
       "    .dataframe thead th {\n",
       "        text-align: right;\n",
       "    }\n",
       "</style>\n",
       "<table border=\"1\" class=\"dataframe\">\n",
       "  <thead>\n",
       "    <tr style=\"text-align: right;\">\n",
       "      <th></th>\n",
       "      <th>teks</th>\n",
       "      <th>label</th>\n",
       "      <th>teks_tokenied</th>\n",
       "      <th>teksbersih</th>\n",
       "    </tr>\n",
       "  </thead>\n",
       "  <tbody>\n",
       "    <tr>\n",
       "      <th>0</th>\n",
       "      <td>b ada catat motor balap sesi kali naremaketurki</td>\n",
       "      <td>Positif</td>\n",
       "      <td>[b ada catat motor balap sesi kali naremaketurki ]</td>\n",
       "      <td>[b ada catat motor balap sesi kali naremaketurki ]</td>\n",
       "    </tr>\n",
       "    <tr>\n",
       "      <th>1</th>\n",
       "      <td>b ada rute bus gratis tonton motogp mandalika baca lengkap</td>\n",
       "      <td>Positif</td>\n",
       "      <td>[b ada rute bus gratis tonton motogp mandalika baca lengkap]</td>\n",
       "      <td>[b ada rute bus gratis tonton motogp mandalika baca lengkap]</td>\n",
       "    </tr>\n",
       "    <tr>\n",
       "      <th>2</th>\n",
       "      <td>b ahli sirkuit mandalika motogp baik titik utama</td>\n",
       "      <td>Positif</td>\n",
       "      <td>[b ahli sirkuit mandalika motogp baik titik utama]</td>\n",
       "      <td>[b ahli sirkuit mandalika motogp baik titik utama]</td>\n",
       "    </tr>\n",
       "    <tr>\n",
       "      <th>3</th>\n",
       "      <td>b airlangga hartarto kira official crew balap motogp maret mandalika</td>\n",
       "      <td>Positif</td>\n",
       "      <td>[b airlangga hartarto kira official crew balap motogp maret mandalika ]</td>\n",
       "      <td>[b airlangga hartarto kira official crew balap motogp maret mandalika ]</td>\n",
       "    </tr>\n",
       "    <tr>\n",
       "      <th>4</th>\n",
       "      <td>b aspal sirkuit mandalika benah tes pramusim motogp beres maret</td>\n",
       "      <td>Positif</td>\n",
       "      <td>[b aspal sirkuit mandalika benah tes pramusim motogp beres maret]</td>\n",
       "      <td>[b aspal sirkuit mandalika benah tes pramusim motogp beres maret]</td>\n",
       "    </tr>\n",
       "    <tr>\n",
       "      <th>...</th>\n",
       "      <td>...</td>\n",
       "      <td>...</td>\n",
       "      <td>...</td>\n",
       "      <td>...</td>\n",
       "    </tr>\n",
       "    <tr>\n",
       "      <th>97</th>\n",
       "      <td>b wohooo ga sabar nonton motogp mandalika n nkalian nonton langsung ga gengs n nmotogpindonesia</td>\n",
       "      <td>Positif</td>\n",
       "      <td>[b wohooo ga sabar nonton motogp mandalika n nkalian nonton langsung ga gengs n nmotogpindonesia ]</td>\n",
       "      <td>[b wohooo ga sabar nonton motogp mandalika n nkalian nonton langsung ga gengs n nmotogpindonesia ]</td>\n",
       "    </tr>\n",
       "    <tr>\n",
       "      <th>100</th>\n",
       "      <td>b yg ga dukung motogp motogpmandalika yg ga indonesia maju n nsalam sehat</td>\n",
       "      <td>Positif</td>\n",
       "      <td>[b yg ga dukung motogp motogpmandalika yg ga indonesia maju n nsalam sehat ]</td>\n",
       "      <td>[b yg ga dukung motogp motogpmandalika yg ga indonesia maju n nsalam sehat ]</td>\n",
       "    </tr>\n",
       "    <tr>\n",
       "      <th>101</th>\n",
       "      <td>b yuk libur lombok lombok travelist melayani n jalan wisata n jalan dinas n paket</td>\n",
       "      <td>Positif</td>\n",
       "      <td>[b yuk libur lombok lombok travelist melayani n jalan wisata n jalan dinas n paket ]</td>\n",
       "      <td>[b yuk libur lombok lombok travelist melayani n jalan wisata n jalan dinas n paket ]</td>\n",
       "    </tr>\n",
       "    <tr>\n",
       "      <th>102</th>\n",
       "      <td>b yuk lihat salah pesona indonesia baru ramai bincang</td>\n",
       "      <td>Positif</td>\n",
       "      <td>[b yuk lihat salah pesona indonesia baru ramai bincang ]</td>\n",
       "      <td>[b yuk lihat salah pesona indonesia baru ramai bincang ]</td>\n",
       "    </tr>\n",
       "    <tr>\n",
       "      <th>103</th>\n",
       "      <td>b yuk nonton event balap penuh aksi sensasi motogpseri sirkuitmandalika sirkuit bangga indonesia</td>\n",
       "      <td>Positif</td>\n",
       "      <td>[b yuk nonton event balap penuh aksi sensasi motogpseri sirkuitmandalika sirkuit bangga indonesia ]</td>\n",
       "      <td>[b yuk nonton event balap penuh aksi sensasi motogpseri sirkuitmandalika sirkuit bangga indonesia ]</td>\n",
       "    </tr>\n",
       "  </tbody>\n",
       "</table>\n",
       "<p>104 rows × 4 columns</p>\n",
       "</div>"
      ],
      "text/plain": [
       "                                                                                                  teks  \\\n",
       "0    b ada catat motor balap sesi kali naremaketurki                                                     \n",
       "1    b ada rute bus gratis tonton motogp mandalika baca lengkap                                          \n",
       "2    b ahli sirkuit mandalika motogp baik titik utama                                                    \n",
       "3    b airlangga hartarto kira official crew balap motogp maret mandalika                                \n",
       "4    b aspal sirkuit mandalika benah tes pramusim motogp beres maret                                     \n",
       "..                                                               ...                                     \n",
       "97   b wohooo ga sabar nonton motogp mandalika n nkalian nonton langsung ga gengs n nmotogpindonesia     \n",
       "100  b yg ga dukung motogp motogpmandalika yg ga indonesia maju n nsalam sehat                           \n",
       "101  b yuk libur lombok lombok travelist melayani n jalan wisata n jalan dinas n paket                   \n",
       "102  b yuk lihat salah pesona indonesia baru ramai bincang                                               \n",
       "103  b yuk nonton event balap penuh aksi sensasi motogpseri sirkuitmandalika sirkuit bangga indonesia    \n",
       "\n",
       "       label  \\\n",
       "0    Positif   \n",
       "1    Positif   \n",
       "2    Positif   \n",
       "3    Positif   \n",
       "4    Positif   \n",
       "..       ...   \n",
       "97   Positif   \n",
       "100  Positif   \n",
       "101  Positif   \n",
       "102  Positif   \n",
       "103  Positif   \n",
       "\n",
       "                                                                                           teks_tokenied  \\\n",
       "0    [b ada catat motor balap sesi kali naremaketurki ]                                                    \n",
       "1    [b ada rute bus gratis tonton motogp mandalika baca lengkap]                                          \n",
       "2    [b ahli sirkuit mandalika motogp baik titik utama]                                                    \n",
       "3    [b airlangga hartarto kira official crew balap motogp maret mandalika ]                               \n",
       "4    [b aspal sirkuit mandalika benah tes pramusim motogp beres maret]                                     \n",
       "..                                                                 ...                                     \n",
       "97   [b wohooo ga sabar nonton motogp mandalika n nkalian nonton langsung ga gengs n nmotogpindonesia ]    \n",
       "100  [b yg ga dukung motogp motogpmandalika yg ga indonesia maju n nsalam sehat ]                          \n",
       "101  [b yuk libur lombok lombok travelist melayani n jalan wisata n jalan dinas n paket ]                  \n",
       "102  [b yuk lihat salah pesona indonesia baru ramai bincang ]                                              \n",
       "103  [b yuk nonton event balap penuh aksi sensasi motogpseri sirkuitmandalika sirkuit bangga indonesia ]   \n",
       "\n",
       "                                                                                              teksbersih  \n",
       "0    [b ada catat motor balap sesi kali naremaketurki ]                                                   \n",
       "1    [b ada rute bus gratis tonton motogp mandalika baca lengkap]                                         \n",
       "2    [b ahli sirkuit mandalika motogp baik titik utama]                                                   \n",
       "3    [b airlangga hartarto kira official crew balap motogp maret mandalika ]                              \n",
       "4    [b aspal sirkuit mandalika benah tes pramusim motogp beres maret]                                    \n",
       "..                                                                 ...                                    \n",
       "97   [b wohooo ga sabar nonton motogp mandalika n nkalian nonton langsung ga gengs n nmotogpindonesia ]   \n",
       "100  [b yg ga dukung motogp motogpmandalika yg ga indonesia maju n nsalam sehat ]                         \n",
       "101  [b yuk libur lombok lombok travelist melayani n jalan wisata n jalan dinas n paket ]                 \n",
       "102  [b yuk lihat salah pesona indonesia baru ramai bincang ]                                             \n",
       "103  [b yuk nonton event balap penuh aksi sensasi motogpseri sirkuitmandalika sirkuit bangga indonesia ]  \n",
       "\n",
       "[104 rows x 4 columns]"
      ]
     },
     "execution_count": 8,
     "metadata": {},
     "output_type": "execute_result"
    }
   ],
   "source": [
    "data.sort_values(\"teksbersih\", inplace = True)\n",
    "#data.drop(data.columns[[0,1,2]], axis = 1, inplace = True)\n",
    "#data.drop_duplicates(subset =\"teksbersih\", keep = 'first', inplace = True)\n",
    "data.to_csv('motogpmandalika_clean2_1.csv',encoding='utf8', index=False)\n",
    "data"
   ]
  },
  {
   "cell_type": "code",
   "execution_count": null,
   "id": "3303a631",
   "metadata": {},
   "outputs": [],
   "source": []
  },
  {
   "cell_type": "code",
   "execution_count": null,
   "id": "8d332591",
   "metadata": {},
   "outputs": [],
   "source": []
  },
  {
   "cell_type": "code",
   "execution_count": null,
   "id": "dddfe178",
   "metadata": {},
   "outputs": [],
   "source": []
  },
  {
   "cell_type": "code",
   "execution_count": null,
   "id": "8af9508e",
   "metadata": {},
   "outputs": [],
   "source": []
  }
 ],
 "metadata": {
  "kernelspec": {
   "display_name": "Python 3",
   "language": "python",
   "name": "python3"
  },
  "language_info": {
   "codemirror_mode": {
    "name": "ipython",
    "version": 3
   },
   "file_extension": ".py",
   "mimetype": "text/x-python",
   "name": "python",
   "nbconvert_exporter": "python",
   "pygments_lexer": "ipython3",
   "version": "3.8.8"
  }
 },
 "nbformat": 4,
 "nbformat_minor": 5
}
